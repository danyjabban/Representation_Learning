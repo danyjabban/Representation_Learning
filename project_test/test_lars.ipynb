{
 "cells": [
  {
   "cell_type": "code",
   "execution_count": 1,
   "metadata": {},
   "outputs": [
    {
     "name": "stdout",
     "output_type": "stream",
     "text": [
      "cuda\n"
     ]
    }
   ],
   "source": [
    "from resnet import ResNetCIFAR\n",
    "from train_util import train, finetune, test\n",
    "import torch\n",
    "import numpy as np\n",
    "import matplotlib.pyplot as plt\n",
    "\n",
    "import time\n",
    "\n",
    "import torchvision.transforms as transforms\n",
    "import torchvision\n",
    "import torch.nn as nn\n",
    "import torch.optim as optim\n",
    "\n",
    "from FP_layers import *\n",
    "import os\n",
    "os.environ[\"PYTORCH_CUDA_ALLOC_CONF\"] = \"max_split_size_mb:512\"\n",
    "\n",
    "device = 'cuda' if torch.cuda.is_available() else 'cpu'\n",
    "# print(device, 'torch.distributed.is_available():', torch.distributed.is_available())\n",
    "print(device)\n",
    "# torch.distributed.init_process_group()"
   ]
  },
  {
   "cell_type": "code",
   "execution_count": 2,
   "metadata": {},
   "outputs": [
    {
     "name": "stdout",
     "output_type": "stream",
     "text": [
      "device cuda\n",
      "==> Preparing data..\n",
      "Files already downloaded and verified\n",
      "Adjusting learning rate of group 0 to 2.4000e-01.\n",
      "Adjusting learning rate of group 0 to 2.4000e-01.\n",
      "\n",
      "Epoch: 0\n"
     ]
    },
    {
     "name": "stderr",
     "output_type": "stream",
     "text": [
      "/home/zl310/ece661-hw-fa23/project_test/lars/lars.py:77: UserWarning: This overload of add_ is deprecated:\n",
      "\tadd_(Number alpha, Tensor other)\n",
      "Consider using one of the following signatures instead:\n",
      "\tadd_(Tensor other, *, Number alpha) (Triggered internally at /opt/conda/conda-bld/pytorch_1682343998658/work/torch/csrc/utils/python_arg_parser.cpp:1485.)\n",
      "  d_p.add_(weight_decay, p.data)\n"
     ]
    },
    {
     "name": "stdout",
     "output_type": "stream",
     "text": [
      "Adjusting learning rate of group 0 to 6.9600e-01.\n",
      "Test Loss=nan\n",
      "\n",
      "Epoch: 1\n",
      "[Step=50]\tLoss=5.0805\t2751.2 examples/second\n",
      "Adjusting learning rate of group 0 to 1.1520e+00.\n",
      "Test Loss=nan\n",
      "\n",
      "Epoch: 2\n",
      "Adjusting learning rate of group 0 to 1.6080e+00.\n",
      "Test Loss=nan\n",
      "\n",
      "Epoch: 3\n",
      "[Step=100]\tLoss=nan\t2647.4 examples/second\n",
      "Adjusting learning rate of group 0 to 2.0640e+00.\n",
      "Test Loss=nan\n",
      "\n",
      "Epoch: 4\n",
      "Adjusting learning rate of group 0 to 2.5200e+00.\n",
      "Test Loss=nan\n",
      "\n",
      "Epoch: 5\n",
      "[Step=150]\tLoss=nan\t2697.9 examples/second\n",
      "Adjusting learning rate of group 0 to 2.9760e+00.\n",
      "Test Loss=nan\n",
      "\n",
      "Epoch: 6\n",
      "Adjusting learning rate of group 0 to 3.4320e+00.\n",
      "Test Loss=nan\n",
      "\n",
      "Epoch: 7\n",
      "[Step=200]\tLoss=nan\t2688.8 examples/second\n",
      "Adjusting learning rate of group 0 to 3.8880e+00.\n",
      "Test Loss=nan\n",
      "\n",
      "Epoch: 8\n",
      "Adjusting learning rate of group 0 to 4.3440e+00.\n",
      "Test Loss=nan\n",
      "\n",
      "Epoch: 9\n",
      "[Step=250]\tLoss=nan\t2652.7 examples/second\n",
      "Adjusting learning rate of group 0 to 4.8000e+00.\n",
      "Test Loss=nan\n",
      "\n",
      "Epoch: 10\n",
      "Adjusting learning rate of group 0 to 4.7988e+00.\n",
      "Test Loss=nan\n",
      "\n",
      "Epoch: 11\n",
      "[Step=300]\tLoss=nan\t2698.9 examples/second\n",
      "Adjusting learning rate of group 0 to 4.7953e+00.\n",
      "Test Loss=nan\n",
      "\n",
      "Epoch: 12\n"
     ]
    },
    {
     "name": "stderr",
     "output_type": "stream",
     "text": [
      "Exception ignored in: <function _releaseLock at 0x7f2047355820>\n",
      "Traceback (most recent call last):\n",
      "  File \"/home/zl310/anaconda3/envs/michael/lib/python3.8/logging/__init__.py\", line 223, in _releaseLock\n",
      "    def _releaseLock():\n",
      "KeyboardInterrupt: \n"
     ]
    }
   ],
   "source": [
    "# from lars.lars import LARS\n",
    "head = nn.Sequential(FP_Linear(64, 64, Nbits=None), nn.ReLU(True), FP_Linear(64, 64, Nbits=None))\n",
    "\n",
    "# model = nn.parallel.DistributedDataParallel(ResNetCIFAR(head_g=head))\n",
    "model = nn.DataParallel(ResNetCIFAR(head_g=head))\n",
    "\n",
    "model = model.to(device)\n",
    "batch_size = int(4096)\n",
    "\n",
    "train(model, epochs=100, batch_size=batch_size, lr=0.3*batch_size/256, reg=1e-6, log_every_n=50)\n",
    "\n",
    "# optimizer = LARS(model.parameters(), lr=0.1, momentum=0.9)\n",
    "# optimizer.zero_grad()\n",
    "# loss_fn(model(input), target).backward()\n",
    "# optimizer.step()"
   ]
  },
  {
   "cell_type": "code",
   "execution_count": null,
   "metadata": {},
   "outputs": [
    {
     "name": "stdout",
     "output_type": "stream",
     "text": [
      "torch.Size([128, 3, 32, 32])\n"
     ]
    }
   ],
   "source": [
    "# # b = torch.rand((64, 3, 28, 28))\n",
    "# head = nn.Sequential(FP_Linear(64, 64, Nbits=None), nn.ReLU(True), FP_Linear(64, 64, Nbits=None))\n",
    "\n",
    "# model = ResNetCIFAR(head_g=head).to(device)\n",
    "# trainset = torchvision.datasets.CIFAR10(root='./data', train=True, download=False, transform=transforms.ToTensor())\n",
    "# trainloader = torch.utils.data.DataLoader(trainset, batch_size=128, shuffle=True, num_workers=1)\n",
    "# b = None\n",
    "# for idx, (inputs, label) in enumerate(trainloader):\n",
    "#     print(inputs.shape)\n",
    "#     b = inputs.to(device)\n",
    "#     break\n",
    "\n",
    "# y = model(b)\n",
    "\n",
    "# # xcs = F.cosine_similarity(y[None, :, :], y[:,None,:], dim=-1)\n",
    "# # ce_loss = F.cross_entropy(xcs / temperature, target, reduction=\"mean\")\n",
    "# # diff_sum = 0\n",
    "# # for rr, cc in enumerate(range(128)):\n",
    "#     # diff_sum += xcs[rr, cc] - F.cosine_similarity(y[rr, :], y[cc, :], dim=-1)"
   ]
  },
  {
   "cell_type": "code",
   "execution_count": null,
   "metadata": {},
   "outputs": [
    {
     "name": "stdout",
     "output_type": "stream",
     "text": [
      "tensor([1, 0, 3, 2, 5, 4, 7, 6])\n"
     ]
    }
   ],
   "source": []
  }
 ],
 "metadata": {
  "kernelspec": {
   "display_name": "michael_pytorch",
   "language": "python",
   "name": "michael_pytorch"
  },
  "language_info": {
   "codemirror_mode": {
    "name": "ipython",
    "version": 3
   },
   "file_extension": ".py",
   "mimetype": "text/x-python",
   "name": "python",
   "nbconvert_exporter": "python",
   "pygments_lexer": "ipython3",
   "version": "3.8.0"
  }
 },
 "nbformat": 4,
 "nbformat_minor": 2
}
