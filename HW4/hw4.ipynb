{
 "cells": [
  {
   "cell_type": "markdown",
   "metadata": {},
   "source": [
    "### Lab2 (a) Model preperation"
   ]
  },
  {
   "cell_type": "code",
   "execution_count": 15,
   "metadata": {
    "pycharm": {
     "is_executing": false
    },
    "tags": []
   },
   "outputs": [
    {
     "data": {
      "text/plain": [
       "'cuda'"
      ]
     },
     "execution_count": 15,
     "metadata": {},
     "output_type": "execute_result"
    }
   ],
   "source": [
    "from resnet20 import ResNetCIFAR\n",
    "from train_util import train, finetune, test\n",
    "import torch\n",
    "import numpy as np\n",
    "import matplotlib.pyplot as plt\n",
    "\n",
    "import time\n",
    "\n",
    "import torchvision.transforms as transforms\n",
    "import torchvision\n",
    "import torch.nn as nn\n",
    "import torch.optim as optim\n",
    "\n",
    "from FP_layers import *\n",
    "\n",
    "device = 'cuda' if torch.cuda.is_available() else 'cpu'\n",
    "device"
   ]
  },
  {
   "cell_type": "code",
   "execution_count": 2,
   "metadata": {
    "pycharm": {
     "is_executing": false,
     "name": "#%%\n"
    },
    "tags": []
   },
   "outputs": [],
   "source": [
    "net = ResNetCIFAR(num_layers=20, Nbits=None)\n",
    "net = net.to(device)"
   ]
  },
  {
   "cell_type": "code",
   "execution_count": 3,
   "metadata": {
    "tags": []
   },
   "outputs": [
    {
     "name": "stdout",
     "output_type": "stream",
     "text": [
      "Files already downloaded and verified\n",
      "Test Loss=0.3231, Test accuracy=0.9150\n"
     ]
    }
   ],
   "source": [
    "# Load the best weight paramters\n",
    "net.load_state_dict(torch.load(\"pretrained_model.pt\"))\n",
    "test(net)"
   ]
  },
  {
   "cell_type": "markdown",
   "metadata": {},
   "source": [
    "### Lab2 (b) Prune by percentage"
   ]
  },
  {
   "cell_type": "code",
   "execution_count": 4,
   "metadata": {
    "tags": []
   },
   "outputs": [],
   "source": [
    "def prune_by_percentage(layer, q):\n",
    "    \"\"\"\n",
    "    Pruning the weight paramters by threshold.\n",
    "    :param q: pruning percentile. 'q' percent of the least \n",
    "    significant weight parameters will be pruned.\n",
    "    \"\"\"\n",
    "    with torch.no_grad():\n",
    "        # Convert the weight of \"layer\" to numpy array\n",
    "        layer_weight = layer.weight.detach().cpu().numpy()\n",
    "        # Compute the q-th percentile of the abs of the converted array\n",
    "        percentile = np.percentile(np.abs(layer_weight.flatten()), q)\n",
    "        # Generate a binary mask same shape as weight to decide which element to prune\n",
    "        masked_obj = np.ma.masked_greater_equal(x=np.abs(layer_weight), value=percentile, copy=True)\n",
    "        mask_int = np.ma.getmask(masked_obj).astype(int)\n",
    "        # Convert mask to torch tensor and put on GPU\n",
    "        mask_tensor = torch.tensor(mask_int).to(device)\n",
    "        # Multiply the weight by mask to perform pruning\n",
    "        assert mask_int.shape == layer_weight.shape\n",
    "        # layer.weight.data = mask_tensor * layer.weight.data\n",
    "        layer.weight.data = layer.weight.data.clone().detach().requires_grad_(True) * mask_tensor\n",
    "    return\n",
    "    "
   ]
  },
  {
   "cell_type": "code",
   "execution_count": 5,
   "metadata": {
    "tags": []
   },
   "outputs": [
    {
     "name": "stdout",
     "output_type": "stream",
     "text": [
      "Sparsity of head_conv.0.conv: 0.300926\n",
      "Sparsity of body_op.0.conv1.0.conv: 0.299913\n",
      "Sparsity of body_op.0.conv2.0.conv: 0.299913\n",
      "Sparsity of body_op.1.conv1.0.conv: 0.299913\n",
      "Sparsity of body_op.1.conv2.0.conv: 0.299913\n",
      "Sparsity of body_op.2.conv1.0.conv: 0.299913\n",
      "Sparsity of body_op.2.conv2.0.conv: 0.299913\n",
      "Sparsity of body_op.3.conv1.0.conv: 0.30013\n",
      "Sparsity of body_op.3.conv2.0.conv: 0.300022\n",
      "Sparsity of body_op.4.conv1.0.conv: 0.300022\n",
      "Sparsity of body_op.4.conv2.0.conv: 0.300022\n",
      "Sparsity of body_op.5.conv1.0.conv: 0.300022\n",
      "Sparsity of body_op.5.conv2.0.conv: 0.300022\n",
      "Sparsity of body_op.6.conv1.0.conv: 0.300022\n",
      "Sparsity of body_op.6.conv2.0.conv: 0.299995\n",
      "Sparsity of body_op.7.conv1.0.conv: 0.299995\n",
      "Sparsity of body_op.7.conv2.0.conv: 0.299995\n",
      "Sparsity of body_op.8.conv1.0.conv: 0.299995\n",
      "Sparsity of body_op.8.conv2.0.conv: 0.299995\n",
      "Sparsity of final_fc.linear: 0.3\n",
      "Files already downloaded and verified\n",
      "Test Loss=0.3699, Test accuracy=0.9027\n",
      "Sparsity of head_conv.0.conv: 0.5\n",
      "Sparsity of body_op.0.conv1.0.conv: 0.5\n",
      "Sparsity of body_op.0.conv2.0.conv: 0.5\n",
      "Sparsity of body_op.1.conv1.0.conv: 0.5\n",
      "Sparsity of body_op.1.conv2.0.conv: 0.5\n",
      "Sparsity of body_op.2.conv1.0.conv: 0.5\n",
      "Sparsity of body_op.2.conv2.0.conv: 0.5\n",
      "Sparsity of body_op.3.conv1.0.conv: 0.5\n",
      "Sparsity of body_op.3.conv2.0.conv: 0.5\n",
      "Sparsity of body_op.4.conv1.0.conv: 0.5\n",
      "Sparsity of body_op.4.conv2.0.conv: 0.5\n",
      "Sparsity of body_op.5.conv1.0.conv: 0.5\n",
      "Sparsity of body_op.5.conv2.0.conv: 0.5\n",
      "Sparsity of body_op.6.conv1.0.conv: 0.5\n",
      "Sparsity of body_op.6.conv2.0.conv: 0.5\n",
      "Sparsity of body_op.7.conv1.0.conv: 0.5\n",
      "Sparsity of body_op.7.conv2.0.conv: 0.5\n",
      "Sparsity of body_op.8.conv1.0.conv: 0.5\n",
      "Sparsity of body_op.8.conv2.0.conv: 0.5\n",
      "Sparsity of final_fc.linear: 0.5\n",
      "Files already downloaded and verified\n",
      "Test Loss=0.6776, Test accuracy=0.8209\n",
      "Sparsity of head_conv.0.conv: 0.699074\n",
      "Sparsity of body_op.0.conv1.0.conv: 0.700087\n",
      "Sparsity of body_op.0.conv2.0.conv: 0.700087\n",
      "Sparsity of body_op.1.conv1.0.conv: 0.700087\n",
      "Sparsity of body_op.1.conv2.0.conv: 0.700087\n",
      "Sparsity of body_op.2.conv1.0.conv: 0.700087\n",
      "Sparsity of body_op.2.conv2.0.conv: 0.700087\n",
      "Sparsity of body_op.3.conv1.0.conv: 0.69987\n",
      "Sparsity of body_op.3.conv2.0.conv: 0.699978\n",
      "Sparsity of body_op.4.conv1.0.conv: 0.699978\n",
      "Sparsity of body_op.4.conv2.0.conv: 0.699978\n",
      "Sparsity of body_op.5.conv1.0.conv: 0.699978\n",
      "Sparsity of body_op.5.conv2.0.conv: 0.699978\n",
      "Sparsity of body_op.6.conv1.0.conv: 0.699978\n",
      "Sparsity of body_op.6.conv2.0.conv: 0.700005\n",
      "Sparsity of body_op.7.conv1.0.conv: 0.700005\n",
      "Sparsity of body_op.7.conv2.0.conv: 0.700005\n",
      "Sparsity of body_op.8.conv1.0.conv: 0.700005\n",
      "Sparsity of body_op.8.conv2.0.conv: 0.700005\n",
      "Sparsity of final_fc.linear: 0.7\n",
      "Files already downloaded and verified\n",
      "Test Loss=2.4418, Test accuracy=0.4207\n"
     ]
    }
   ],
   "source": [
    "q_list = np.array([0.3, 0.5, 0.7]) * 100\n",
    "for q_val in q_list:\n",
    "    net.load_state_dict(torch.load(\"pretrained_model.pt\"))\n",
    "    for name, layer in net.named_modules():\n",
    "        if (isinstance(layer, nn.Conv2d) or isinstance(layer, nn.Linear)) and 'id_mapping' not in name:\n",
    "            # change q value\n",
    "            prune_by_percentage(layer, q=q_val)\n",
    "            # break\n",
    "            ## Optional: Check the sparsity you achieve in each layer\n",
    "            ## Convert the weight of \"layer\" to numpy array\n",
    "            np_weight = layer.weight.detach().cpu().numpy()\n",
    "            ## Count number of zeros\n",
    "            zeros = sum((np_weight == 0).flatten())\n",
    "            ## Count number of parameters\n",
    "            total = len(np_weight.flatten())\n",
    "            ## Print sparsity\n",
    "            # print('Sparsity of ' + name + ': '+ str(zeros/total))\n",
    "            print('Sparsity of %s: %g' % (name, zeros/total))\n",
    "    test(net)"
   ]
  },
  {
   "cell_type": "markdown",
   "metadata": {},
   "source": [
    "### Lab2 (c) Finetune pruned model"
   ]
  },
  {
   "cell_type": "code",
   "execution_count": 9,
   "metadata": {
    "tags": []
   },
   "outputs": [],
   "source": [
    "def finetune_after_prune(net, trainloader, criterion, optimizer, prune=True):\n",
    "    \"\"\"\n",
    "    Finetune the pruned model for a single epoch\n",
    "    Make sure pruned weights are kept as zero\n",
    "    \"\"\"\n",
    "    # Build a dictionary for the nonzero weights\n",
    "    weight_mask = {}\n",
    "    for name, layer in net.named_modules():\n",
    "        if (isinstance(layer, nn.Conv2d) or isinstance(layer, nn.Linear)) and 'id_mapping' not in name:\n",
    "            # Your code here: generate a mask in GPU torch tensor to have 1 for nonzero element and 0 for zero element \n",
    "            layer_weight = layer.weight.detach().cpu().numpy()\n",
    "            mask_obj = np.ma.masked_equal(x=layer_weight, value=0)  # where it's zero, mask value is True\n",
    "            weight_mask[name] = torch.tensor(1 - np.ma.getmask(mask_obj).astype(int)).to(device)  \n",
    "            # zero = 0, nonzero = 1\n",
    "    \n",
    "    global_steps = 0\n",
    "    train_loss = 0\n",
    "    correct = 0\n",
    "    total = 0\n",
    "    start = time.time()\n",
    "    for batch_idx, (inputs, targets) in enumerate(trainloader):\n",
    "        inputs, targets = inputs.to(device), targets.to(device)\n",
    "        optimizer.zero_grad()\n",
    "        outputs = net(inputs)\n",
    "        loss = criterion(outputs, targets)\n",
    "        loss.backward()\n",
    "        optimizer.step()\n",
    "        \n",
    "        if prune:\n",
    "            for name,layer in net.named_modules():\n",
    "                if (isinstance(layer, nn.Conv2d) or isinstance(layer, nn.Linear)) and 'id_mapping' not in name:\n",
    "                    # Your code here: Use weight_mask to make sure zero elements remains zero                    \n",
    "                    layer.weight.data = layer.weight.data.clone().detach().requires_grad_(True) * weight_mask[name]\n",
    "                    \n",
    "        train_loss += loss.item()\n",
    "        _, predicted = outputs.max(1)\n",
    "        total += targets.size(0)\n",
    "        correct += predicted.eq(targets).sum().item()\n",
    "        global_steps += 1\n",
    "\n",
    "        if global_steps % 50 == 0:\n",
    "            end = time.time()\n",
    "            batch_size = 256\n",
    "            num_examples_per_second = 50 * batch_size / (end - start)\n",
    "            print(\"[Step=%d]\\tLoss=%.4f\\tacc=%.4f\\t%.1f examples/second\"\n",
    "                 % (global_steps, train_loss / (batch_idx + 1), (correct / total), num_examples_per_second))\n",
    "            start = time.time()"
   ]
  },
  {
   "cell_type": "code",
   "execution_count": 10,
   "metadata": {
    "tags": []
   },
   "outputs": [
    {
     "name": "stdout",
     "output_type": "stream",
     "text": [
      "==> Preparing data..\n",
      "Files already downloaded and verified\n",
      "Files already downloaded and verified\n"
     ]
    }
   ],
   "source": [
    "# Get pruned model\n",
    "net.load_state_dict(torch.load(\"pretrained_model.pt\"))\n",
    "for name, layer in net.named_modules():\n",
    "    if (isinstance(layer, nn.Conv2d) or isinstance(layer, nn.Linear)) and 'id_mapping' not in name:\n",
    "        prune_by_percentage(layer, q=70.0)\n",
    "\n",
    "# Training setup, do not change\n",
    "batch_size = 256\n",
    "lr = 0.002\n",
    "reg = 1e-4\n",
    "\n",
    "print('==> Preparing data..')\n",
    "transform_train = transforms.Compose([\n",
    "    transforms.RandomCrop(32, padding=4),\n",
    "    transforms.RandomHorizontalFlip(),\n",
    "    transforms.ToTensor(),\n",
    "    transforms.Normalize((0.4914, 0.4822, 0.4465), (0.2023, 0.1994, 0.2010)),\n",
    "])\n",
    "\n",
    "transform_test = transforms.Compose([\n",
    "    transforms.ToTensor(),\n",
    "    transforms.Normalize((0.4914, 0.4822, 0.4465), (0.2023, 0.1994, 0.2010)),\n",
    "])\n",
    "best_acc = 0  # best test accuracy\n",
    "start_epoch = 0  # start from epoch 0 or last checkpoint epoch\n",
    "trainset = torchvision.datasets.CIFAR10(root='./data', train=True, download=True, transform=transform_train)\n",
    "trainloader = torch.utils.data.DataLoader(trainset, batch_size=batch_size, shuffle=True, num_workers=16)\n",
    "\n",
    "testset = torchvision.datasets.CIFAR10(root='./data', train=False, download=True, transform=transform_test)\n",
    "testloader = torch.utils.data.DataLoader(testset, batch_size=100, shuffle=False, num_workers=2)\n",
    "\n",
    "criterion = nn.CrossEntropyLoss()\n",
    "optimizer = optim.SGD(net.parameters(), lr=lr, momentum=0.875, weight_decay=reg, nesterov=False)"
   ]
  },
  {
   "cell_type": "code",
   "execution_count": null,
   "metadata": {
    "tags": []
   },
   "outputs": [],
   "source": [
    "# Model finetuning\n",
    "test_acc_lst = []\n",
    "n_epochs = 20\n",
    "for epoch in range(n_epochs):\n",
    "    print('\\nEpoch: %d' % epoch)\n",
    "    net.train()\n",
    "    finetune_after_prune(net, trainloader, criterion, optimizer)\n",
    "    #Start the testing code.\n",
    "    net.eval()\n",
    "    test_loss = 0\n",
    "    correct = 0\n",
    "    total = 0\n",
    "    with torch.no_grad():\n",
    "        for batch_idx, (inputs, targets) in enumerate(testloader):\n",
    "            inputs, targets = inputs.to(device), targets.to(device)\n",
    "            outputs = net(inputs)\n",
    "            loss = criterion(outputs, targets)\n",
    "\n",
    "            test_loss += loss.item()\n",
    "            _, predicted = outputs.max(1)\n",
    "            total += targets.size(0)\n",
    "            correct += predicted.eq(targets).sum().item()\n",
    "    num_val_steps = len(testloader)\n",
    "    val_acc = correct / total\n",
    "    print(\"Test Loss=%.4f, Test acc=%.4f\" % (test_loss / (num_val_steps), val_acc))\n",
    "    test_acc_lst.append(val_acc)\n",
    "    if val_acc > best_acc:\n",
    "        best_acc = val_acc\n",
    "        print(\"Saving...\")\n",
    "        torch.save(net.state_dict(), \"net_after_finetune.pt\")"
   ]
  },
  {
   "cell_type": "code",
   "execution_count": null,
   "metadata": {
    "tags": []
   },
   "outputs": [],
   "source": [
    "fig, ax = plt.subplots(1, 1)\n",
    "xx = range(n_epochs)\n",
    "ax.plot(xx, test_acc_lst, label='last test accuracy: %g' % test_acc_lst[-1])\n",
    "ax.set_xlabel('Epochs')\n",
    "ax.set_ylabel('Accuracy')\n",
    "ax.set_title('lab2c Accuracy vs Epochs\\nFine-tune Pruning')\n",
    "\n",
    "plt.savefig('lab2c.pdf', dpi=500, bbox_inches='tight')"
   ]
  },
  {
   "cell_type": "code",
   "execution_count": null,
   "metadata": {
    "tags": []
   },
   "outputs": [],
   "source": [
    "# Check sparsity of the finetuned model, make sure it's not changed\n",
    "net.load_state_dict(torch.load(\"net_after_finetune.pt\"))\n",
    "\n",
    "for name,layer in net.named_modules():\n",
    "    if (isinstance(layer, nn.Conv2d) or isinstance(layer, nn.Linear)) and 'id_mapping' not in name:\n",
    "        # Your code here:\n",
    "        ## Convert the weight of \"layer\" to numpy array\n",
    "        np_weight = layer.weight.detach().cpu().numpy()\n",
    "        ## Count number of zeros\n",
    "        zeros = sum((np_weight == 0).flatten())\n",
    "        ## Count number of parameters\n",
    "        total = len(np_weight.flatten())\n",
    "        # Print sparsity\n",
    "        print('Sparsity of %s: %g' % (name, zeros/total))   \n",
    "        \n",
    "test(net)"
   ]
  },
  {
   "cell_type": "markdown",
   "metadata": {},
   "source": [
    "### Lab2 (d) Iterative pruning"
   ]
  },
  {
   "cell_type": "code",
   "execution_count": null,
   "metadata": {},
   "outputs": [],
   "source": [
    "net.load_state_dict(torch.load(\"pretrained_model.pt\"))\n",
    "best_acc = 0.\n",
    "n_epochs = 20\n",
    "\n",
    "test_acc_iter_prune = []\n",
    "\n",
    "for epoch in range(n_epochs):\n",
    "    print('\\nEpoch: %d' % epoch)\n",
    "    \n",
    "    net.train()\n",
    "    if epoch < 10:\n",
    "        for name,layer in net.named_modules():\n",
    "            if (isinstance(layer, nn.Conv2d) or isinstance(layer, nn.Linear)) and 'id_mapping' not in name:\n",
    "                # Increase model sparsity\n",
    "                q = (epoch + 1) * 7\n",
    "                # Linearly increase the pruning percentage for 10 epochs until reaching 70% in the final epoch\n",
    "                prune_by_percentage(layer, q=q)\n",
    "    if epoch < 9:\n",
    "        finetune_after_prune(net, trainloader, criterion, optimizer, prune=False)\n",
    "    else: # starts from epoch==9, where q = 70%\n",
    "        finetune_after_prune(net, trainloader, criterion, optimizer)\n",
    "    \n",
    "    #Start the testing code.\n",
    "    net.eval()\n",
    "    test_loss = 0\n",
    "    correct = 0\n",
    "    total = 0\n",
    "    with torch.no_grad():\n",
    "        for batch_idx, (inputs, targets) in enumerate(testloader):\n",
    "            inputs, targets = inputs.to(device), targets.to(device)\n",
    "            outputs = net(inputs)\n",
    "            loss = criterion(outputs, targets)\n",
    "\n",
    "            test_loss += loss.item()\n",
    "            _, predicted = outputs.max(1)\n",
    "            total += targets.size(0)\n",
    "            correct += predicted.eq(targets).sum().item()\n",
    "    num_val_steps = len(testloader)\n",
    "    val_acc = correct / total\n",
    "    \n",
    "    test_acc_iter_prune.append(val_acc)\n",
    "        \n",
    "    print(\"Test Loss=%.4f, Test acc=%.4f\" % (test_loss / (num_val_steps), val_acc))\n",
    "    \n",
    "    if epoch>=10:\n",
    "        if val_acc > best_acc:\n",
    "            best_acc = val_acc\n",
    "            print(\"Saving...\")\n",
    "            torch.save(net.state_dict(), \"net_after_iterative_prune.pt\")"
   ]
  },
  {
   "cell_type": "code",
   "execution_count": null,
   "metadata": {},
   "outputs": [],
   "source": [
    "# Check sparsity of the final model, make sure it's 70%\n",
    "net.load_state_dict(torch.load(\"net_after_iterative_prune.pt\"))\n",
    "\n",
    "for name,layer in net.named_modules():\n",
    "    if (isinstance(layer, nn.Conv2d) or isinstance(layer, nn.Linear)) and 'id_mapping' not in name:\n",
    "        # Your code here: can copy from previous question\n",
    "        ## Convert the weight of \"layer\" to numpy array\n",
    "        np_weight = layer.weight.detach().cpu().numpy()\n",
    "        ## Count number of zeros\n",
    "        zeros = sum((np_weight == 0).flatten())\n",
    "        ## Count number of parameters\n",
    "        total = len(np_weight.flatten())\n",
    "        # Print sparsity\n",
    "        print('Sparsity of %s: %g' % (name, zeros/total))   \n",
    "        \n",
    "        \n",
    "test(net)"
   ]
  },
  {
   "cell_type": "code",
   "execution_count": null,
   "metadata": {},
   "outputs": [],
   "source": [
    "fig, ax = plt.subplots(1, 1)\n",
    "xx = range(n_epochs)\n",
    "ax.plot(xx, test_acc_iter_prune, label='max test accuracy: %g' % test_acc_iter_prune[-1])\n",
    "ax.set_xlabel('Epochs')\n",
    "ax.set_ylabel('Accuracy')\n",
    "ax.set_title('lab2d Accuracy vs Epochs\\nIterative Pruning')\n",
    "\n",
    "plt.savefig('lab2d.pdf', dpi=500, bbox_inches='tight')"
   ]
  },
  {
   "cell_type": "markdown",
   "metadata": {},
   "source": [
    "### Lab2 (e) Global iterative pruning"
   ]
  },
  {
   "cell_type": "code",
   "execution_count": null,
   "metadata": {},
   "outputs": [],
   "source": [
    "def global_prune_by_percentage(net, q=70.0):\n",
    "    \"\"\"\n",
    "    Pruning the weight paramters by threshold.\n",
    "    :param q: pruning percentile. 'q' percent of the least \n",
    "    significant weight parameters will be pruned.\n",
    "    \"\"\"\n",
    "    # A list to gather all the weights\n",
    "    flattened_weights = []\n",
    "    # Find global pruning threshold\n",
    "    for name,layer in net.named_modules():\n",
    "        if (isinstance(layer, nn.Conv2d) or isinstance(layer, nn.Linear)) and 'id_mapping' not in name:\n",
    "            # Convert weight to numpy\n",
    "            # Flatten the weight and append to flattened_weights\n",
    "            flattened_weights.append(layer.weight.detach().cpu().numpy().flatten())\n",
    "    \n",
    "    # Concate all weights into a np array\n",
    "    flattened_weights = np.concatenate(flattened_weights)\n",
    "    # Find global pruning threshold\n",
    "    threshold = np.percentile(пр.abs(flattened_weights.flatten()), q)\n",
    "    \n",
    "    # Apply pruning threshold to all layers\n",
    "    for name,layer in net.named_modules():\n",
    "        if (isinstance(layer, nn.Conv2d) or isinstance(layer, nn.Linear)) and 'id_mapping' not in name:\n",
    "            # Convert weight to numpy\n",
    "            layer_weight = layer.weight.detach().cpu().numpy()\n",
    "            \n",
    "            # Generate a binary mask same shape as weight to decide which element to prune\n",
    "            masked_obj = np.ma.masked_greater_equal(x=np.abs(layer_weight), value=threshold, copy=True)\n",
    "            mask_int = np.ma.getmask(masked_obj).astype(int)\n",
    "            # Convert mask to torch tensor and put on GPU\n",
    "            mask_tensor = torch.tensor(mask_ine).to(device)\n",
    "            # Multiply the weight by mask to perform pruning\n",
    "            layer.weight.data = layer.weight.data.clone().detach().requires_grad_(True) * mask_tensor"
   ]
  },
  {
   "cell_type": "code",
   "execution_count": null,
   "metadata": {},
   "outputs": [],
   "source": [
    "net.load_state_dict(torch.load(\"pretrained_model.pt\"))\n",
    "best_acc = 0.\n",
    "\n",
    "test_acc_global_prune = []\n",
    "\n",
    "for epoch in range(20):\n",
    "    print('\\nEpoch: %d' % epoch)\n",
    "    # q = (epoch + 1) * 8\n",
    "    q = (epoch + 1) * 7\n",
    "    \n",
    "    net.train()\n",
    "    # Increase model sparsity\n",
    "    if epoch < 10:\n",
    "        global_prune_by_percentage(net, q=q)\n",
    "    if epoch < 9:\n",
    "        finetune_after_prune(net, trainloader, criterion, optimizer, prune=False)\n",
    "    else:\n",
    "        finetune_after_prune(net, trainloader, criterion, optimizer)\n",
    "    \n",
    "    #Start the testing code.\n",
    "    net.eval()\n",
    "    test_loss = 0\n",
    "    correct = 0\n",
    "    total = 0\n",
    "    with torch.no_grad():\n",
    "        for batch_idx, (inputs, targets) in enumerate(testloader):\n",
    "            inputs, targets = inputs.to(device), targets.to(device)\n",
    "            outputs = net(inputs)\n",
    "            loss = criterion(outputs, targets)\n",
    "\n",
    "            test_loss += loss.item()\n",
    "            _, predicted = outputs.max(1)\n",
    "            total += targets.size(0)\n",
    "            correct += predicted.eq(targets).sum().item()\n",
    "    num_val_steps = len(testloader)\n",
    "    val_acc = correct / total\n",
    "    print(\"Test Loss=%.4f, Test acc=%.4f\" % (test_loss / (num_val_steps), val_acc))\n",
    "    \n",
    "    test_acc_global_prune.append(val_acc)\n",
    "    \n",
    "    if epoch >= 10:\n",
    "        if val_acc > best_acc:\n",
    "            best_acc = val_acc\n",
    "            print(\"Saving...\")\n",
    "            torch.save(net.state_dict(), \"net_after_global_iterative_prune.pt\")"
   ]
  },
  {
   "cell_type": "code",
   "execution_count": null,
   "metadata": {},
   "outputs": [],
   "source": [
    "net.load_state_dict(torch.load(\"net_after_global_iterative_prune.pt\"))\n",
    "\n",
    "zeros_sum = 0\n",
    "total_sum = 0\n",
    "for name,layer in net.named_modules():\n",
    "    if (isinstance(layer, nn.Conv2d) or isinstance(layer, nn.Linear)) and 'id_mapping' not in name:\n",
    "        # Your code here:\n",
    "        # Convert the weight of \"layer\" to numpy array\n",
    "        np_weight = layer.weight.detach().cpu().numpy()\n",
    "        # Count number of zeros\n",
    "        zeros = sum((np_weight == 0).flatten())\n",
    "        # Count number of parameters\n",
    "        total = len(np_weight.flatten())\n",
    "        zeros_sum += zeros\n",
    "        total_sum += total\n",
    "        print('Sparsity of %s: %g' % (name, zeros/total))   \n",
    "print('Total sparsity of: %g' % float(zeros_sum/total_sum))\n",
    "test(net)"
   ]
  },
  {
   "cell_type": "code",
   "execution_count": null,
   "metadata": {},
   "outputs": [],
   "source": [
    "fig, ax = plt.subplots(1, 1)\n",
    "xx = range(n_epochs)\n",
    "ax.plot(xx, test_acc_global_prune, label='last test accuracy: %g' % test_acc_global_prune[-1])\n",
    "ax.set_xlabel('Epochs')\n",
    "ax.set_ylabel('Accuracy')\n",
    "ax.set_title('lab2e Accuracy vs Epochs\\nGlobal Iterative Pruning')\n",
    "\n",
    "plt.savefig('lab2e.pdf', dpi=500, bbox_inches='tight')"
   ]
  },
  {
   "cell_type": "markdown",
   "metadata": {},
   "source": [
    "### Lab 3 (b) and (c): Fixed-point quantization"
   ]
  },
  {
   "cell_type": "code",
   "execution_count": null,
   "metadata": {},
   "outputs": [],
   "source": [
    "# Define quantized model and load weight\n",
    "Nbits = 4 #Change this value to finish (b) and (c)\n",
    "\n",
    "net = ResNetCIFAR(num_layers=20, Nbits=Nbits)\n",
    "net = net.to(device)\n",
    "net.load_state_dict(torch.load(\"pretrained_model.pt\"))\n",
    "test(net)\n"
   ]
  },
  {
   "cell_type": "code",
   "execution_count": null,
   "metadata": {},
   "outputs": [],
   "source": [
    "# Quantized model finetuning\n",
    "finetune(net, epochs=20, batch_size=256, lr=0.002, reg=1e-4)   \n",
    "\n",
    "# Load the model with best accuracy\n",
    "net.load_state_dict(torch.load(\"quantized_net_after_finetune.pt\"))\n",
    "test(net)"
   ]
  },
  {
   "cell_type": "markdown",
   "metadata": {},
   "source": [
    "### Lab3 (d) Quantize pruned model"
   ]
  },
  {
   "cell_type": "code",
   "execution_count": null,
   "metadata": {},
   "outputs": [],
   "source": [
    "# Define quantized model and load weight\n",
    "Nbits = 3 #Change this value to finish (d)\n",
    "\n",
    "net = ResNetCIFAR(num_layers=20, Nbits=Nbits)\n",
    "net = net.to(device)\n",
    "net.load_state_dict(torch.load(\"net_after_global_iterative_prune.pt\"))\n",
    "test(net)\n"
   ]
  },
  {
   "cell_type": "code",
   "execution_count": null,
   "metadata": {},
   "outputs": [],
   "source": [
    "# Quantized model finetuning\n",
    "finetune(net, epochs=20, batch_size=256, lr=0.002, reg=1e-4)\n",
    "\n",
    "# Load the model with best accuracy\n",
    "net.load_state_dict(torch.load(\"quantized_net_after_finetune.pt\"))\n",
    "test(net)"
   ]
  },
  {
   "cell_type": "markdown",
   "metadata": {},
   "source": [
    "### Lab3 (e) Symmetric quantization\n",
    "#### Implement symmetric quantization in FP_layers.py, and repeat the process in (b)"
   ]
  },
  {
   "cell_type": "code",
   "execution_count": null,
   "metadata": {},
   "outputs": [],
   "source": [
    "# check the performance of symmetric quantization with 6, 5, 4, 3, 2 bits"
   ]
  }
 ],
 "metadata": {
  "kernelspec": {
   "display_name": "Python (michael Pytorch-UNet clone)",
   "language": "python",
   "name": "michael"
  },
  "language_info": {
   "codemirror_mode": {
    "name": "ipython",
    "version": 3
   },
   "file_extension": ".py",
   "mimetype": "text/x-python",
   "name": "python",
   "nbconvert_exporter": "python",
   "pygments_lexer": "ipython3",
   "version": "3.8.0"
  },
  "pycharm": {
   "stem_cell": {
    "cell_type": "raw",
    "metadata": {
     "collapsed": false
    },
    "source": []
   }
  }
 },
 "nbformat": 4,
 "nbformat_minor": 4
}
