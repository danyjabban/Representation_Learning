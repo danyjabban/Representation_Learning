{
 "cells": [
  {
   "cell_type": "code",
   "execution_count": 6,
   "metadata": {
    "ExecuteTime": {
     "end_time": "2023-09-18T02:00:12.979268Z",
     "start_time": "2023-09-18T02:00:12.972732Z"
    },
    "collapsed": true
   },
   "outputs": [],
   "source": [
    "import numpy as np\n",
    "from sklearn.linear_model import LinearRegression"
   ]
  },
  {
   "cell_type": "code",
   "execution_count": 7,
   "metadata": {
    "ExecuteTime": {
     "end_time": "2023-09-18T02:00:12.993378Z",
     "start_time": "2023-09-18T02:00:12.976861Z"
    }
   },
   "outputs": [
    {
     "name": "stdout",
     "output_type": "stream",
     "text": [
      "[ 1.5  0.5  0.5 -0.5]\n",
      "0.5 [-0.5 -0.5]\n"
     ]
    }
   ],
   "source": [
    "def fit_and_return_coef(x, y):\n",
    "    model = LinearRegression()\n",
    "    model.fit(x, y)  # x is (n_samples, n_features), y is (n_samples, n_targets)\n",
    "    # print(model.score(x, y))\n",
    "    return model.intercept_, model.coef_\n",
    "\n",
    "\n",
    "def check_fitting(x, intercept, weights):\n",
    "    return np.matmul(x, weights) + intercept\n",
    "\n",
    "\n",
    "# q2.2:\n",
    "x_2 = np.array([[-1, -1], [-1, +1], [+1, -1], [+1, +1]])\n",
    "y_2 = np.array([+1, +1, +1, -1])\n",
    "w0, coefs = fit_and_return_coef(x_2, y_2)\n",
    "\n",
    "print(check_fitting(x_2, w0, coefs))\n",
    "print(w0, coefs)"
   ]
  },
  {
   "cell_type": "code",
   "execution_count": 8,
   "metadata": {
    "ExecuteTime": {
     "end_time": "2023-09-18T02:00:12.995186Z",
     "start_time": "2023-09-18T02:00:12.988133Z"
    }
   },
   "outputs": [
    {
     "name": "stdout",
     "output_type": "stream",
     "text": [
      "[-1.5 -0.5 -0.5  0.5 -0.5  0.5  0.5  1.5]\n",
      "0.0 [0.5 0.5 0.5]\n"
     ]
    }
   ],
   "source": [
    "# q2.3:\n",
    "x_3 = np.array([[-1, -1, -1],\n",
    "                [-1, -1, +1],\n",
    "                [-1, +1, -1],\n",
    "                [-1, +1, +1],\n",
    "                [+1, -1, -1],\n",
    "                [+1, -1, +1],\n",
    "                [+1, +1, -1],\n",
    "                [+1, +1, +1]])\n",
    "y_3 = np.array([-1, -1, -1, +1, -1, +1, +1, +1])\n",
    "w0, coefs = fit_and_return_coef(x_3, y_3)\n",
    "\n",
    "print(check_fitting(x_3, w0, coefs))\n",
    "print(w0, coefs)"
   ]
  },
  {
   "cell_type": "code",
   "execution_count": 9,
   "metadata": {
    "ExecuteTime": {
     "end_time": "2023-09-18T02:00:13.047726Z",
     "start_time": "2023-09-18T02:00:12.993586Z"
    }
   },
   "outputs": [
    {
     "name": "stdout",
     "output_type": "stream",
     "text": [
      "before masking (outputs from layer 1):\n",
      "[[ 0.5  0.5]\n",
      " [ 2.5 -1.5]\n",
      " [-1.5  2.5]\n",
      " [ 0.5  0.5]]\n",
      "after masking (outputs from layer 1):\n",
      "[[ 1.  1.]\n",
      " [ 1. -1.]\n",
      " [-1.  1.]\n",
      " [ 1.  1.]]\n",
      "fitting xor (w20, w21, w22) = (1.0, array([-1., -1.]))\n",
      "[-1.  1.  1. -1.]\n"
     ]
    }
   ],
   "source": [
    "# q2.4 A xor B = (A nand B) and (A or B)\n",
    "x_4 = np.array([[-1, -1], [-1, +1], [+1, -1], [+1, +1]])\n",
    "y_41 = np.matmul(x_4, np.array([-1, +1])) + 0.5\n",
    "y_42 = np.matmul(x_4, np.array([+1, -1])) + 0.5\n",
    "x_4final = np.concatenate((y_41, y_42)).reshape(2, 4).T\n",
    "\n",
    "print('before masking (outputs from layer 1):\\n' + str(x_4final))\n",
    "\n",
    "x_4final[x_4final > 0] = +1\n",
    "x_4final[x_4final < 0] = -1\n",
    "y_4final = np.array([-1, +1, +1, -1])\n",
    "# print(y_41, y_42)\n",
    "print('after masking (outputs from layer 1):\\n'  + str(x_4final))\n",
    "intercept, arr = fit_and_return_coef(x_4final, y_4final)\n",
    "\n",
    "# print('testing ' + str(np.matmul(x_4final, np.array(arr)) + intercept))\n",
    "\n",
    "print('fitting xor (w20, w21, w22) = ' + str(fit_and_return_coef(x_4final, y_4final)))\n",
    "print(str(check_fitting(x_4final, *fit_and_return_coef(x_4final, y_4final))))\n",
    "\n",
    "# print('fit xor ' + str(fit_and_return_coef(x_4_part_2, y_4final)))\n",
    "# print('check xor ' + str(check_fitting(x_4_part_2, *fit_and_return_coef(x_4_part_2, y_4final))))"
   ]
  }
 ],
 "metadata": {
  "kernelspec": {
   "display_name": "Python 3 (ipykernel)",
   "language": "python",
   "name": "python3"
  },
  "language_info": {
   "codemirror_mode": {
    "name": "ipython",
    "version": 3
   },
   "file_extension": ".py",
   "mimetype": "text/x-python",
   "name": "python",
   "nbconvert_exporter": "python",
   "pygments_lexer": "ipython3",
   "version": "3.8.17"
  }
 },
 "nbformat": 4,
 "nbformat_minor": 1
}
